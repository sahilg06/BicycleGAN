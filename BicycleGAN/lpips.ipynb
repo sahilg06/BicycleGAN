{
  "nbformat": 4,
  "nbformat_minor": 0,
  "metadata": {
    "colab": {
      "name": "lpips.ipynb",
      "provenance": [],
      "collapsed_sections": []
    },
    "kernelspec": {
      "name": "python3",
      "display_name": "Python 3"
    },
    "accelerator": "GPU",
    "widgets": {
      "application/vnd.jupyter.widget-state+json": {
        "252ea0db7bab43bb8df57ee1bfde52e3": {
          "model_module": "@jupyter-widgets/controls",
          "model_name": "HBoxModel",
          "state": {
            "_view_name": "HBoxView",
            "_dom_classes": [],
            "_model_name": "HBoxModel",
            "_view_module": "@jupyter-widgets/controls",
            "_model_module_version": "1.5.0",
            "_view_count": null,
            "_view_module_version": "1.5.0",
            "box_style": "",
            "layout": "IPY_MODEL_9891c3e1265b4f2d9ab18a926de97468",
            "_model_module": "@jupyter-widgets/controls",
            "children": [
              "IPY_MODEL_05e1a171793643478592fdb041a3a6e3",
              "IPY_MODEL_72cca55b3de7471a928f5d86279522bf"
            ]
          }
        },
        "9891c3e1265b4f2d9ab18a926de97468": {
          "model_module": "@jupyter-widgets/base",
          "model_name": "LayoutModel",
          "state": {
            "_view_name": "LayoutView",
            "grid_template_rows": null,
            "right": null,
            "justify_content": null,
            "_view_module": "@jupyter-widgets/base",
            "overflow": null,
            "_model_module_version": "1.2.0",
            "_view_count": null,
            "flex_flow": null,
            "width": null,
            "min_width": null,
            "border": null,
            "align_items": null,
            "bottom": null,
            "_model_module": "@jupyter-widgets/base",
            "top": null,
            "grid_column": null,
            "overflow_y": null,
            "overflow_x": null,
            "grid_auto_flow": null,
            "grid_area": null,
            "grid_template_columns": null,
            "flex": null,
            "_model_name": "LayoutModel",
            "justify_items": null,
            "grid_row": null,
            "max_height": null,
            "align_content": null,
            "visibility": null,
            "align_self": null,
            "height": null,
            "min_height": null,
            "padding": null,
            "grid_auto_rows": null,
            "grid_gap": null,
            "max_width": null,
            "order": null,
            "_view_module_version": "1.2.0",
            "grid_template_areas": null,
            "object_position": null,
            "object_fit": null,
            "grid_auto_columns": null,
            "margin": null,
            "display": null,
            "left": null
          }
        },
        "05e1a171793643478592fdb041a3a6e3": {
          "model_module": "@jupyter-widgets/controls",
          "model_name": "FloatProgressModel",
          "state": {
            "_view_name": "ProgressView",
            "style": "IPY_MODEL_85e8fb42001a4d82b19de9078ecc755f",
            "_dom_classes": [],
            "description": "100%",
            "_model_name": "FloatProgressModel",
            "bar_style": "success",
            "max": 244418560,
            "_view_module": "@jupyter-widgets/controls",
            "_model_module_version": "1.5.0",
            "value": 244418560,
            "_view_count": null,
            "_view_module_version": "1.5.0",
            "orientation": "horizontal",
            "min": 0,
            "description_tooltip": null,
            "_model_module": "@jupyter-widgets/controls",
            "layout": "IPY_MODEL_1f3e27ef232f4e5fae1c78ffef7a5ef4"
          }
        },
        "72cca55b3de7471a928f5d86279522bf": {
          "model_module": "@jupyter-widgets/controls",
          "model_name": "HTMLModel",
          "state": {
            "_view_name": "HTMLView",
            "style": "IPY_MODEL_6bcade38bb974df28ce7cfb032fc5507",
            "_dom_classes": [],
            "description": "",
            "_model_name": "HTMLModel",
            "placeholder": "​",
            "_view_module": "@jupyter-widgets/controls",
            "_model_module_version": "1.5.0",
            "value": " 233M/233M [23:30&lt;00:00, 173kB/s]",
            "_view_count": null,
            "_view_module_version": "1.5.0",
            "description_tooltip": null,
            "_model_module": "@jupyter-widgets/controls",
            "layout": "IPY_MODEL_7159ede0076b4ba8940d8a12e2bb8439"
          }
        },
        "85e8fb42001a4d82b19de9078ecc755f": {
          "model_module": "@jupyter-widgets/controls",
          "model_name": "ProgressStyleModel",
          "state": {
            "_view_name": "StyleView",
            "_model_name": "ProgressStyleModel",
            "description_width": "initial",
            "_view_module": "@jupyter-widgets/base",
            "_model_module_version": "1.5.0",
            "_view_count": null,
            "_view_module_version": "1.2.0",
            "bar_color": null,
            "_model_module": "@jupyter-widgets/controls"
          }
        },
        "1f3e27ef232f4e5fae1c78ffef7a5ef4": {
          "model_module": "@jupyter-widgets/base",
          "model_name": "LayoutModel",
          "state": {
            "_view_name": "LayoutView",
            "grid_template_rows": null,
            "right": null,
            "justify_content": null,
            "_view_module": "@jupyter-widgets/base",
            "overflow": null,
            "_model_module_version": "1.2.0",
            "_view_count": null,
            "flex_flow": null,
            "width": null,
            "min_width": null,
            "border": null,
            "align_items": null,
            "bottom": null,
            "_model_module": "@jupyter-widgets/base",
            "top": null,
            "grid_column": null,
            "overflow_y": null,
            "overflow_x": null,
            "grid_auto_flow": null,
            "grid_area": null,
            "grid_template_columns": null,
            "flex": null,
            "_model_name": "LayoutModel",
            "justify_items": null,
            "grid_row": null,
            "max_height": null,
            "align_content": null,
            "visibility": null,
            "align_self": null,
            "height": null,
            "min_height": null,
            "padding": null,
            "grid_auto_rows": null,
            "grid_gap": null,
            "max_width": null,
            "order": null,
            "_view_module_version": "1.2.0",
            "grid_template_areas": null,
            "object_position": null,
            "object_fit": null,
            "grid_auto_columns": null,
            "margin": null,
            "display": null,
            "left": null
          }
        },
        "6bcade38bb974df28ce7cfb032fc5507": {
          "model_module": "@jupyter-widgets/controls",
          "model_name": "DescriptionStyleModel",
          "state": {
            "_view_name": "StyleView",
            "_model_name": "DescriptionStyleModel",
            "description_width": "",
            "_view_module": "@jupyter-widgets/base",
            "_model_module_version": "1.5.0",
            "_view_count": null,
            "_view_module_version": "1.2.0",
            "_model_module": "@jupyter-widgets/controls"
          }
        },
        "7159ede0076b4ba8940d8a12e2bb8439": {
          "model_module": "@jupyter-widgets/base",
          "model_name": "LayoutModel",
          "state": {
            "_view_name": "LayoutView",
            "grid_template_rows": null,
            "right": null,
            "justify_content": null,
            "_view_module": "@jupyter-widgets/base",
            "overflow": null,
            "_model_module_version": "1.2.0",
            "_view_count": null,
            "flex_flow": null,
            "width": null,
            "min_width": null,
            "border": null,
            "align_items": null,
            "bottom": null,
            "_model_module": "@jupyter-widgets/base",
            "top": null,
            "grid_column": null,
            "overflow_y": null,
            "overflow_x": null,
            "grid_auto_flow": null,
            "grid_area": null,
            "grid_template_columns": null,
            "flex": null,
            "_model_name": "LayoutModel",
            "justify_items": null,
            "grid_row": null,
            "max_height": null,
            "align_content": null,
            "visibility": null,
            "align_self": null,
            "height": null,
            "min_height": null,
            "padding": null,
            "grid_auto_rows": null,
            "grid_gap": null,
            "max_width": null,
            "order": null,
            "_view_module_version": "1.2.0",
            "grid_template_areas": null,
            "object_position": null,
            "object_fit": null,
            "grid_auto_columns": null,
            "margin": null,
            "display": null,
            "left": null
          }
        },
        "ce6065dbdc57414c8c7a4c80ec5871cb": {
          "model_module": "@jupyter-widgets/controls",
          "model_name": "HBoxModel",
          "state": {
            "_view_name": "HBoxView",
            "_dom_classes": [],
            "_model_name": "HBoxModel",
            "_view_module": "@jupyter-widgets/controls",
            "_model_module_version": "1.5.0",
            "_view_count": null,
            "_view_module_version": "1.5.0",
            "box_style": "",
            "layout": "IPY_MODEL_cb23535b464645f69f75deab134cbb62",
            "_model_module": "@jupyter-widgets/controls",
            "children": [
              "IPY_MODEL_8b59dbb206224af99ae3c54cf8be845b",
              "IPY_MODEL_903cfd090e834b25862c9fa31c2995df"
            ]
          }
        },
        "cb23535b464645f69f75deab134cbb62": {
          "model_module": "@jupyter-widgets/base",
          "model_name": "LayoutModel",
          "state": {
            "_view_name": "LayoutView",
            "grid_template_rows": null,
            "right": null,
            "justify_content": null,
            "_view_module": "@jupyter-widgets/base",
            "overflow": null,
            "_model_module_version": "1.2.0",
            "_view_count": null,
            "flex_flow": null,
            "width": null,
            "min_width": null,
            "border": null,
            "align_items": null,
            "bottom": null,
            "_model_module": "@jupyter-widgets/base",
            "top": null,
            "grid_column": null,
            "overflow_y": null,
            "overflow_x": null,
            "grid_auto_flow": null,
            "grid_area": null,
            "grid_template_columns": null,
            "flex": null,
            "_model_name": "LayoutModel",
            "justify_items": null,
            "grid_row": null,
            "max_height": null,
            "align_content": null,
            "visibility": null,
            "align_self": null,
            "height": null,
            "min_height": null,
            "padding": null,
            "grid_auto_rows": null,
            "grid_gap": null,
            "max_width": null,
            "order": null,
            "_view_module_version": "1.2.0",
            "grid_template_areas": null,
            "object_position": null,
            "object_fit": null,
            "grid_auto_columns": null,
            "margin": null,
            "display": null,
            "left": null
          }
        },
        "8b59dbb206224af99ae3c54cf8be845b": {
          "model_module": "@jupyter-widgets/controls",
          "model_name": "FloatProgressModel",
          "state": {
            "_view_name": "ProgressView",
            "style": "IPY_MODEL_4c9ad044dd8b45e484021b02fa7d31d0",
            "_dom_classes": [],
            "description": "100%",
            "_model_name": "FloatProgressModel",
            "bar_style": "success",
            "max": 553433881,
            "_view_module": "@jupyter-widgets/controls",
            "_model_module_version": "1.5.0",
            "value": 553433881,
            "_view_count": null,
            "_view_module_version": "1.5.0",
            "orientation": "horizontal",
            "min": 0,
            "description_tooltip": null,
            "_model_module": "@jupyter-widgets/controls",
            "layout": "IPY_MODEL_919e5717f4b94720a00d713a69a5e80d"
          }
        },
        "903cfd090e834b25862c9fa31c2995df": {
          "model_module": "@jupyter-widgets/controls",
          "model_name": "HTMLModel",
          "state": {
            "_view_name": "HTMLView",
            "style": "IPY_MODEL_dc1d1ddc56b246a6b6644c0052724fd9",
            "_dom_classes": [],
            "description": "",
            "_model_name": "HTMLModel",
            "placeholder": "​",
            "_view_module": "@jupyter-widgets/controls",
            "_model_module_version": "1.5.0",
            "value": " 528M/528M [00:07&lt;00:00, 72.6MB/s]",
            "_view_count": null,
            "_view_module_version": "1.5.0",
            "description_tooltip": null,
            "_model_module": "@jupyter-widgets/controls",
            "layout": "IPY_MODEL_70f0ffb280724b548cfbdb3aa6d2be04"
          }
        },
        "4c9ad044dd8b45e484021b02fa7d31d0": {
          "model_module": "@jupyter-widgets/controls",
          "model_name": "ProgressStyleModel",
          "state": {
            "_view_name": "StyleView",
            "_model_name": "ProgressStyleModel",
            "description_width": "initial",
            "_view_module": "@jupyter-widgets/base",
            "_model_module_version": "1.5.0",
            "_view_count": null,
            "_view_module_version": "1.2.0",
            "bar_color": null,
            "_model_module": "@jupyter-widgets/controls"
          }
        },
        "919e5717f4b94720a00d713a69a5e80d": {
          "model_module": "@jupyter-widgets/base",
          "model_name": "LayoutModel",
          "state": {
            "_view_name": "LayoutView",
            "grid_template_rows": null,
            "right": null,
            "justify_content": null,
            "_view_module": "@jupyter-widgets/base",
            "overflow": null,
            "_model_module_version": "1.2.0",
            "_view_count": null,
            "flex_flow": null,
            "width": null,
            "min_width": null,
            "border": null,
            "align_items": null,
            "bottom": null,
            "_model_module": "@jupyter-widgets/base",
            "top": null,
            "grid_column": null,
            "overflow_y": null,
            "overflow_x": null,
            "grid_auto_flow": null,
            "grid_area": null,
            "grid_template_columns": null,
            "flex": null,
            "_model_name": "LayoutModel",
            "justify_items": null,
            "grid_row": null,
            "max_height": null,
            "align_content": null,
            "visibility": null,
            "align_self": null,
            "height": null,
            "min_height": null,
            "padding": null,
            "grid_auto_rows": null,
            "grid_gap": null,
            "max_width": null,
            "order": null,
            "_view_module_version": "1.2.0",
            "grid_template_areas": null,
            "object_position": null,
            "object_fit": null,
            "grid_auto_columns": null,
            "margin": null,
            "display": null,
            "left": null
          }
        },
        "dc1d1ddc56b246a6b6644c0052724fd9": {
          "model_module": "@jupyter-widgets/controls",
          "model_name": "DescriptionStyleModel",
          "state": {
            "_view_name": "StyleView",
            "_model_name": "DescriptionStyleModel",
            "description_width": "",
            "_view_module": "@jupyter-widgets/base",
            "_model_module_version": "1.5.0",
            "_view_count": null,
            "_view_module_version": "1.2.0",
            "_model_module": "@jupyter-widgets/controls"
          }
        },
        "70f0ffb280724b548cfbdb3aa6d2be04": {
          "model_module": "@jupyter-widgets/base",
          "model_name": "LayoutModel",
          "state": {
            "_view_name": "LayoutView",
            "grid_template_rows": null,
            "right": null,
            "justify_content": null,
            "_view_module": "@jupyter-widgets/base",
            "overflow": null,
            "_model_module_version": "1.2.0",
            "_view_count": null,
            "flex_flow": null,
            "width": null,
            "min_width": null,
            "border": null,
            "align_items": null,
            "bottom": null,
            "_model_module": "@jupyter-widgets/base",
            "top": null,
            "grid_column": null,
            "overflow_y": null,
            "overflow_x": null,
            "grid_auto_flow": null,
            "grid_area": null,
            "grid_template_columns": null,
            "flex": null,
            "_model_name": "LayoutModel",
            "justify_items": null,
            "grid_row": null,
            "max_height": null,
            "align_content": null,
            "visibility": null,
            "align_self": null,
            "height": null,
            "min_height": null,
            "padding": null,
            "grid_auto_rows": null,
            "grid_gap": null,
            "max_width": null,
            "order": null,
            "_view_module_version": "1.2.0",
            "grid_template_areas": null,
            "object_position": null,
            "object_fit": null,
            "grid_auto_columns": null,
            "margin": null,
            "display": null,
            "left": null
          }
        }
      }
    }
  },
  "cells": [
    {
      "cell_type": "markdown",
      "metadata": {
        "id": "igBiwwXX-ij6"
      },
      "source": [
        "<h1>Learned Perceptual Image Patch Similarity (LPIPS) metric</h1>\r\n",
        "\r\n",
        "---\r\n",
        "Criteria to evaluate diversity among images. Evaluate the distance between image patches. Higher means further/more different. Lower means more similar.\r\n",
        "It can also be used as a <b>perceptual loss</b>\r\n"
      ]
    },
    {
      "cell_type": "code",
      "metadata": {
        "id": "cSByoMHmm_9a"
      },
      "source": [
        "import lpips\r\n",
        "import os\r\n",
        "import glob\r\n",
        "from PIL import Image\r\n",
        "import matplotlib.pyplot as plt\r\n",
        "\r\n",
        "import torch\r\n",
        "from torch.utils.data import Dataset\r\n",
        "from torch.utils.data import DataLoader\r\n",
        "import torchvision.transforms as transforms\r\n",
        "USE_CUDA = torch.cuda.is_available()\r\n",
        "device = torch.device(\"cuda\" if USE_CUDA else \"cpu\")"
      ],
      "execution_count": 3,
      "outputs": []
    },
    {
      "cell_type": "markdown",
      "metadata": {
        "id": "BXsteOBSFdoD"
      },
      "source": [
        "Pretrained are used as a “perceptual loss\" in image generation applications\r\n",
        "(Here alexnet or vgg) "
      ]
    },
    {
      "cell_type": "code",
      "metadata": {
        "id": "Wgy3s8KAnJe5",
        "colab": {
          "base_uri": "https://localhost:8080/",
          "height": 217,
          "referenced_widgets": [
            "252ea0db7bab43bb8df57ee1bfde52e3",
            "9891c3e1265b4f2d9ab18a926de97468",
            "05e1a171793643478592fdb041a3a6e3",
            "72cca55b3de7471a928f5d86279522bf",
            "85e8fb42001a4d82b19de9078ecc755f",
            "1f3e27ef232f4e5fae1c78ffef7a5ef4",
            "6bcade38bb974df28ce7cfb032fc5507",
            "7159ede0076b4ba8940d8a12e2bb8439",
            "ce6065dbdc57414c8c7a4c80ec5871cb",
            "cb23535b464645f69f75deab134cbb62",
            "8b59dbb206224af99ae3c54cf8be845b",
            "903cfd090e834b25862c9fa31c2995df",
            "4c9ad044dd8b45e484021b02fa7d31d0",
            "919e5717f4b94720a00d713a69a5e80d",
            "dc1d1ddc56b246a6b6644c0052724fd9",
            "70f0ffb280724b548cfbdb3aa6d2be04"
          ]
        },
        "outputId": "f4f105ec-cd7a-448c-d095-7666ea92e475"
      },
      "source": [
        "loss_fn_alex = lpips.LPIPS(net='alex') # best forward scores\r\n",
        "loss_fn_vgg = lpips.LPIPS(net='vgg') # closer to \"traditional\" perceptual loss, when used for optimization"
      ],
      "execution_count": 4,
      "outputs": [
        {
          "output_type": "stream",
          "text": [
            "Setting up [LPIPS] perceptual loss: trunk [alex], v[0.1], spatial [off]\n"
          ],
          "name": "stdout"
        },
        {
          "output_type": "stream",
          "text": [
            "Downloading: \"https://download.pytorch.org/models/alexnet-owt-4df8aa71.pth\" to /root/.cache/torch/hub/checkpoints/alexnet-owt-4df8aa71.pth\n"
          ],
          "name": "stderr"
        },
        {
          "output_type": "display_data",
          "data": {
            "application/vnd.jupyter.widget-view+json": {
              "model_id": "252ea0db7bab43bb8df57ee1bfde52e3",
              "version_minor": 0,
              "version_major": 2
            },
            "text/plain": [
              "HBox(children=(FloatProgress(value=0.0, max=244418560.0), HTML(value='')))"
            ]
          },
          "metadata": {
            "tags": []
          }
        },
        {
          "output_type": "stream",
          "text": [
            "\n",
            "Loading model from: /usr/local/lib/python3.6/dist-packages/lpips/weights/v0.1/alex.pth\n",
            "Setting up [LPIPS] perceptual loss: trunk [vgg], v[0.1], spatial [off]\n"
          ],
          "name": "stdout"
        },
        {
          "output_type": "stream",
          "text": [
            "Downloading: \"https://download.pytorch.org/models/vgg16-397923af.pth\" to /root/.cache/torch/hub/checkpoints/vgg16-397923af.pth\n"
          ],
          "name": "stderr"
        },
        {
          "output_type": "display_data",
          "data": {
            "application/vnd.jupyter.widget-view+json": {
              "model_id": "ce6065dbdc57414c8c7a4c80ec5871cb",
              "version_minor": 0,
              "version_major": 2
            },
            "text/plain": [
              "HBox(children=(FloatProgress(value=0.0, max=553433881.0), HTML(value='')))"
            ]
          },
          "metadata": {
            "tags": []
          }
        },
        {
          "output_type": "stream",
          "text": [
            "\n",
            "Loading model from: /usr/local/lib/python3.6/dist-packages/lpips/weights/v0.1/vgg.pth\n"
          ],
          "name": "stdout"
        }
      ]
    },
    {
      "cell_type": "code",
      "metadata": {
        "id": "tWZ8hzXIGw8L"
      },
      "source": [
        "data_path = os.path.join(\"images\", \"edges2shoes\")\r\n",
        "data_path2 = os.path.join(\"images\", \"CIFAR10\")\r\n"
      ],
      "execution_count": 5,
      "outputs": []
    },
    {
      "cell_type": "code",
      "metadata": {
        "id": "o4BgAV0wKv1-"
      },
      "source": [
        "class Results(Dataset):\r\n",
        "  def __init__(self, root):\r\n",
        "        self.transform = transforms.Compose(\r\n",
        "            [\r\n",
        "                transforms.ToTensor(),\r\n",
        "            ]\r\n",
        "        )\r\n",
        "        self.files = (glob.glob(root + \"/*.*\"))\r\n",
        "  def __getitem__(self, index):\r\n",
        "    img = Image.open(self.files[index % len(self.files)])\r\n",
        "    img = self.transform(img)\r\n",
        "    return img\r\n",
        "\r\n",
        "  def __len__(self):\r\n",
        "        return len(self.files)\r\n",
        "    "
      ],
      "execution_count": 6,
      "outputs": []
    },
    {
      "cell_type": "code",
      "metadata": {
        "id": "TRpo89o_UQ6V"
      },
      "source": [
        "dataloader_e2s = DataLoader(\r\n",
        "    Results(data_path),\r\n",
        "    batch_size=1,\r\n",
        "    shuffle=False\r\n",
        ")\r\n",
        "dataloader_cifar10 = DataLoader(\r\n",
        "    Results(data_path2),\r\n",
        "    batch_size=1,\r\n",
        "    shuffle=False\r\n",
        ")"
      ],
      "execution_count": 7,
      "outputs": []
    },
    {
      "cell_type": "markdown",
      "metadata": {
        "id": "5bGwf8OPDYu7"
      },
      "source": [
        "Edges2Shoes<br>\r\n",
        "After every 400 batches of training, we took a different batch of 8 images from validation dataset. For each image generator produced 8 variants. For each image\r\n",
        "we took all the 28 pairs possible and calculated the avg lpips distance between them. Then we took avg over all the 8 images."
      ]
    },
    {
      "cell_type": "code",
      "metadata": {
        "id": "LumMS3sQi49i"
      },
      "source": [
        "div=[]     #list to store lpips distance after every 400 batches trained        \r\n",
        "batches=[] #list of batches \r\n",
        "for batch in enumerate(dataloader_e2s):\r\n",
        "  distance=0\r\n",
        "  imgs_8=torch.split(batch[1],128,2)\r\n",
        "  for img_8 in imgs_8:\r\n",
        "    temp=0\r\n",
        "    var=torch.split(img_8,128,3)\r\n",
        "    for i in range(1,9):\r\n",
        "      for j in range(i+1,9):\r\n",
        "        img0=var[i]\r\n",
        "        img1=var[j]\r\n",
        "        diversity=loss_fn_alex(img0, img1)\r\n",
        "        temp=(temp+diversity.item())\r\n",
        "    distance=(distance+(temp/28))\r\n",
        "  batches.append(batch[0]*400)\r\n",
        "  div.append(distance/8)\r\n"
      ],
      "execution_count": null,
      "outputs": []
    },
    {
      "cell_type": "code",
      "metadata": {
        "colab": {
          "base_uri": "https://localhost:8080/",
          "height": 283
        },
        "id": "7tfN2JZvQeP5",
        "outputId": "efc3eda6-7533-46e7-b9e6-5a84ea09709d"
      },
      "source": [
        "plt.plot(batches,div)\r\n",
        "plt.axis([0, 175000, 0, 0.4])\r\n",
        "plt.xlabel('Number of batches trained')\r\n",
        "plt.ylabel('Avg Lpips distance (DIVERSITY)')\r\n",
        "plt.show()"
      ],
      "execution_count": null,
      "outputs": [
        {
          "output_type": "display_data",
          "data": {
            "image/png": "[encoded data removed]",
            "text/plain": [
              "<Figure size 432x288 with 1 Axes>"
            ]
          },
          "metadata": {
            "tags": [],
            "needs_background": "light"
          }
        }
      ]
    },
    {
      "cell_type": "markdown",
      "metadata": {
        "id": "aegvUhjhHJBJ"
      },
      "source": [
        "Random pairs of ground truth real images in the B ∈ B\r\n",
        "domain produce an average variation of .262 (as illustrated in paper of bicyclegan) <br>\r\n",
        "As we can see from the plot, our generated images of shoes have diversity close enough to real images."
      ]
    },
    {
      "cell_type": "markdown",
      "metadata": {
        "id": "pIu7_HkFu0Jv"
      },
      "source": [
        "CIFAR10<br>\r\n",
        "After every 3200 batches of training, we took a batch of 8 images from NOISED validation dataset of CIFAR10 . This time at every interval of 3200 batches, we took the same batch of 8 images . For each image generator produced 8 variants. For each image we took all the 28 pairs possible and calculated the average lpips distance between them. Then we took avg over all the 8 images."
      ]
    },
    {
      "cell_type": "code",
      "metadata": {
        "id": "rMygBkuDuJEZ"
      },
      "source": [
        "\r\n",
        "div_cif=[]     #list to store lpips distance after every 3200 batches trained        \r\n",
        "batches_cif=[] #list of batches \r\n",
        "for batch in enumerate(dataloader_cifar10):\r\n",
        "  distance=0\r\n",
        "  imgs_8=torch.split(batch[1],128,2)\r\n",
        "  for img_8 in imgs_8:\r\n",
        "    temp=0\r\n",
        "    var=torch.split(img_8,128,3)\r\n",
        "    for i in range(1,9):\r\n",
        "      for j in range(i+1,9):\r\n",
        "        img0=var[i]\r\n",
        "        img1=var[j]\r\n",
        "        diversity=loss_fn_alex(img0, img1)\r\n",
        "        temp=(temp+diversity.item())\r\n",
        "    distance=(distance+(temp/28))\r\n",
        "  batches_cif.append(batch[0]*3200)\r\n",
        "  div_cif.append(distance/8)\r\n"
      ],
      "execution_count": 8,
      "outputs": []
    },
    {
      "cell_type": "code",
      "metadata": {
        "id": "gd_rENR2uMEZ",
        "colab": {
          "base_uri": "https://localhost:8080/",
          "height": 283
        },
        "outputId": "14d5fa01-94df-47eb-ce1d-c4159d871394"
      },
      "source": [
        "plt.plot(batches_cif,div_cif)\r\n",
        "plt.axis([0, 317000, 0, 0.6])\r\n",
        "plt.xlabel('Number of batches trained')\r\n",
        "plt.ylabel('Avg Lpips distance for CIFAR10 (DIVERSITY)')\r\n",
        "plt.show()"
      ],
      "execution_count": 11,
      "outputs": [
        {
          "output_type": "display_data",
          "data": {
            "image/png": "[encoded data removed]",
            "text/plain": [
              "<Figure size 432x288 with 1 Axes>"
            ]
          },
          "metadata": {
            "tags": [],
            "needs_background": "light"
          }
        }
      ]
    },
    {
      "cell_type": "markdown",
      "metadata": {
        "id": "EVmOWANSxkGf"
      },
      "source": [
        "As we can see from the plot, our generated denoised images of CIFAR10 also have diversity close enough to real images."
      ]
    }
  ]
}